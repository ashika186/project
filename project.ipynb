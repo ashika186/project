{
  "nbformat": 4,
  "nbformat_minor": 0,
  "metadata": {
    "colab": {
      "provenance": []
    },
    "kernelspec": {
      "name": "python3",
      "display_name": "Python 3"
    },
    "language_info": {
      "name": "python"
    }
  },
  "cells": [
    {
      "cell_type": "code",
      "execution_count": 3,
      "metadata": {
        "colab": {
          "base_uri": "https://localhost:8080/",
          "height": 1000
        },
        "id": "QfbRwlc9aIT-",
        "outputId": "65dd4965-180a-4354-84d2-3ca8133f3c89"
      },
      "outputs": [
        {
          "output_type": "stream",
          "name": "stdout",
          "text": [
            "First few rows:\n",
            "                                         customer_id  churn\n",
            "0  e4b72c1c45b982f8b39f4cab732c433b24d03d52e5a0b1...      1\n",
            "1  b9996abf8720c9c554b78617f27827c18e597b378227d2...      0\n",
            "2  18a737f17b32318ed4a99a0a03dbc5d9b60181cf91a3d8...      1\n",
            "3  183b142d7411500e5336a11f9eeebcf039a425bc8e615a...      0\n",
            "4  d439419ea17faf98d8974be2b2911c1d7d5eb9949b9fca...      0\n",
            "\n",
            "Dataset shape: (13001, 2)\n",
            "\n",
            "Columns: ['customer_id', 'churn']\n",
            "\n",
            "Data types:\n",
            "<class 'pandas.core.frame.DataFrame'>\n",
            "RangeIndex: 13001 entries, 0 to 13000\n",
            "Data columns (total 2 columns):\n",
            " #   Column       Non-Null Count  Dtype \n",
            "---  ------       --------------  ----- \n",
            " 0   customer_id  13001 non-null  object\n",
            " 1   churn        13001 non-null  int64 \n",
            "dtypes: int64(1), object(1)\n",
            "memory usage: 203.3+ KB\n",
            "None\n",
            "\n",
            "Summary statistics:\n",
            "              churn\n",
            "count  13001.000000\n",
            "mean       0.229059\n",
            "std        0.420244\n",
            "min        0.000000\n",
            "25%        0.000000\n",
            "50%        0.000000\n",
            "75%        0.000000\n",
            "max        1.000000\n",
            "\n",
            "Missing values:\n",
            "customer_id    0\n",
            "churn          0\n",
            "dtype: int64\n",
            "\n",
            "Duplicate rows: 0\n"
          ]
        },
        {
          "output_type": "display_data",
          "data": {
            "text/plain": [
              "<Figure size 600x400 with 1 Axes>"
            ],
            "image/png": "[encoded data removed]"
          },
          "metadata": {}
        },
        {
          "output_type": "stream",
          "name": "stdout",
          "text": [
            "\n",
            "Model Evaluation:\n",
            "Accuracy: 0.7650903498654363\n",
            "\n",
            "Classification Report:\n",
            "              precision    recall  f1-score   support\n",
            "\n",
            "           0       0.77      1.00      0.87      1990\n",
            "           1       0.00      0.00      0.00       611\n",
            "\n",
            "    accuracy                           0.77      2601\n",
            "   macro avg       0.38      0.50      0.43      2601\n",
            "weighted avg       0.59      0.77      0.66      2601\n",
            "\n",
            "\n",
            "Confusion Matrix:\n",
            "[[1990    0]\n",
            " [ 611    0]]\n"
          ]
        },
        {
          "output_type": "stream",
          "name": "stderr",
          "text": [
            "/usr/local/lib/python3.11/dist-packages/sklearn/metrics/_classification.py:1565: UndefinedMetricWarning: Precision is ill-defined and being set to 0.0 in labels with no predicted samples. Use `zero_division` parameter to control this behavior.\n",
            "  _warn_prf(average, modifier, f\"{metric.capitalize()} is\", len(result))\n",
            "/usr/local/lib/python3.11/dist-packages/sklearn/metrics/_classification.py:1565: UndefinedMetricWarning: Precision is ill-defined and being set to 0.0 in labels with no predicted samples. Use `zero_division` parameter to control this behavior.\n",
            "  _warn_prf(average, modifier, f\"{metric.capitalize()} is\", len(result))\n",
            "/usr/local/lib/python3.11/dist-packages/sklearn/metrics/_classification.py:1565: UndefinedMetricWarning: Precision is ill-defined and being set to 0.0 in labels with no predicted samples. Use `zero_division` parameter to control this behavior.\n",
            "  _warn_prf(average, modifier, f\"{metric.capitalize()} is\", len(result))\n"
          ]
        },
        {
          "output_type": "stream",
          "name": "stdout",
          "text": [
            "It looks like you are running Gradio on a hosted a Jupyter notebook. For the Gradio app to work, sharing must be enabled. Automatically setting `share=True` (you can turn this off by setting `share=False` in `launch()` explicitly).\n",
            "\n",
            "Colab notebook detected. To show errors in colab notebook, set debug=True in launch()\n",
            "* Running on public URL: https://ca4d8afaf44949d303.gradio.live\n",
            "\n",
            "This share link expires in 1 week. For free permanent hosting and GPU upgrades, run `gradio deploy` from the terminal in the working directory to deploy to Hugging Face Spaces (https://huggingface.co/spaces)\n"
          ]
        },
        {
          "output_type": "display_data",
          "data": {
            "text/plain": [
              "<IPython.core.display.HTML object>"
            ],
            "text/html": [
              "<div><iframe src=\"https://ca4d8afaf44949d303.gradio.live\" width=\"100%\" height=\"500\" allow=\"autoplay; camera; microphone; clipboard-read; clipboard-write;\" frameborder=\"0\" allowfullscreen></iframe></div>"
            ]
          },
          "metadata": {}
        },
        {
          "output_type": "execute_result",
          "data": {
            "text/plain": []
          },
          "metadata": {},
          "execution_count": 3
        }
      ],
      "source": [
        "import pandas as pd\n",
        "from sklearn.model_selection import train_test_split\n",
        "from sklearn.preprocessing import StandardScaler\n",
        "from sklearn.linear_model import LogisticRegression\n",
        "from sklearn.metrics import accuracy_score, classification_report, confusion_matrix\n",
        "import seaborn as sns\n",
        "import matplotlib.pyplot as plt\n",
        "import gradio as gr\n",
        "\n",
        "# Load the dataset\n",
        "df = pd.read_csv('test_cxid.csv')\n",
        "\n",
        "# Data Exploration\n",
        "print(\"First few rows:\")\n",
        "print(df.head())\n",
        "print(\"\\nDataset shape:\", df.shape)\n",
        "print(\"\\nColumns:\", df.columns.tolist())\n",
        "print(\"\\nData types:\")\n",
        "print(df.info())\n",
        "print(\"\\nSummary statistics:\")\n",
        "print(df.describe())\n",
        "\n",
        "# Check for missing values and duplicates\n",
        "print(\"\\nMissing values:\")\n",
        "print(df.isnull().sum())\n",
        "print(\"\\nDuplicate rows:\", df.duplicated().sum())\n",
        "\n",
        "# Visualize the target variable\n",
        "plt.figure(figsize=(6, 4))\n",
        "sns.countplot(x='churn', data=df)\n",
        "plt.title('Distribution of Churn (0=Not Churned, 1=Churned)')\n",
        "plt.show()\n",
        "\n",
        "# Prepare data for modeling\n",
        "X = df.drop(['customer_id', 'churn'], axis=1)  # Drop customer_id as it's not a feature\n",
        "y = df['churn']\n",
        "\n",
        "# Since there are no other features in this dataset (just customer_id and churn),\n",
        "# we'll create some dummy features for demonstration purposes\n",
        "import numpy as np\n",
        "np.random.seed(42)\n",
        "X['feature1'] = np.random.normal(0, 1, size=len(X))\n",
        "X['feature2'] = np.random.randint(0, 5, size=len(X))\n",
        "X['feature3'] = np.random.uniform(0, 1, size=len(X))\n",
        "\n",
        "# Split the data\n",
        "X_train, X_test, y_train, y_test = train_test_split(X, y, test_size=0.2, random_state=42)\n",
        "\n",
        "# Scale the features\n",
        "scaler = StandardScaler()\n",
        "X_train_scaled = scaler.fit_transform(X_train)\n",
        "X_test_scaled = scaler.transform(X_test)\n",
        "\n",
        "# Train the model\n",
        "model = LogisticRegression()\n",
        "model.fit(X_train_scaled, y_train)\n",
        "\n",
        "# Evaluate the model\n",
        "y_pred = model.predict(X_test_scaled)\n",
        "print(\"\\nModel Evaluation:\")\n",
        "print(\"Accuracy:\", accuracy_score(y_test, y_pred))\n",
        "print(\"\\nClassification Report:\")\n",
        "print(classification_report(y_test, y_pred))\n",
        "print(\"\\nConfusion Matrix:\")\n",
        "print(confusion_matrix(y_test, y_pred))\n",
        "\n",
        "# Create a prediction function for Gradio\n",
        "def predict_churn(feature1, feature2, feature3):\n",
        "    # Create input array\n",
        "    input_data = np.array([[feature1, feature2, feature3]])\n",
        "\n",
        "    # Scale the input\n",
        "    input_scaled = scaler.transform(input_data)\n",
        "\n",
        "    # Make prediction\n",
        "    prediction = model.predict(input_scaled)[0]\n",
        "    probability = model.predict_proba(input_scaled)[0][1]  # Probability of churn\n",
        "\n",
        "    # Return results\n",
        "    result = \"Churn\" if prediction == 1 else \"Not Churn\"\n",
        "    return f\"Prediction: {result} (Probability: {probability:.2f})\"\n",
        "\n",
        "# Create Gradio interface\n",
        "inputs = [\n",
        "    gr.Number(label=\"Feature 1 (Random Normal)\"),\n",
        "    gr.Number(label=\"Feature 2 (Random Integer 0-4)\"),\n",
        "    gr.Number(label=\"Feature 3 (Random Uniform 0-1)\")\n",
        "]\n",
        "\n",
        "output = gr.Textbox(label=\"Churn Prediction\")\n",
        "\n",
        "# Launch the app\n",
        "gr.Interface(\n",
        "    fn=predict_churn,\n",
        "    inputs=inputs,\n",
        "    outputs=output,\n",
        "    title=\"📞 Customer Churn Predictor\",\n",
        "    description=\"Predict whether a customer will churn based on their features.\"\n",
        ").launch()"
      ]
    },
    {
      "cell_type": "code",
      "source": [
        "!pip install gradio --quiet"
      ],
      "metadata": {
        "colab": {
          "base_uri": "https://localhost:8080/"
        },
        "id": "kKRy6e6PaXOa",
        "outputId": "daa2baa3-5f64-480c-d6a1-01a3306c3b86"
      },
      "execution_count": 2,
      "outputs": [
        {
          "output_type": "stream",
          "name": "stdout",
          "text": [
            "\u001b[2K   \u001b[90m━━━━━━━━━━━━━━━━━━━━━━━━━━━━━━━━━━━━━━━━\u001b[0m \u001b[32m54.1/54.1 MB\u001b[0m \u001b[31m18.2 MB/s\u001b[0m eta \u001b[36m0:00:00\u001b[0m\n",
            "\u001b[2K   \u001b[90m━━━━━━━━━━━━━━━━━━━━━━━━━━━━━━━━━━━━━━━━\u001b[0m \u001b[32m322.9/322.9 kB\u001b[0m \u001b[31m21.2 MB/s\u001b[0m eta \u001b[36m0:00:00\u001b[0m\n",
            "\u001b[2K   \u001b[90m━━━━━━━━━━━━━━━━━━━━━━━━━━━━━━━━━━━━━━━━\u001b[0m \u001b[32m95.2/95.2 kB\u001b[0m \u001b[31m6.6 MB/s\u001b[0m eta \u001b[36m0:00:00\u001b[0m\n",
            "\u001b[2K   \u001b[90m━━━━━━━━━━━━━━━━━━━━━━━━━━━━━━━━━━━━━━━━\u001b[0m \u001b[32m11.5/11.5 MB\u001b[0m \u001b[31m74.3 MB/s\u001b[0m eta \u001b[36m0:00:00\u001b[0m\n",
            "\u001b[2K   \u001b[90m━━━━━━━━━━━━━━━━━━━━━━━━━━━━━━━━━━━━━━━━\u001b[0m \u001b[32m72.0/72.0 kB\u001b[0m \u001b[31m5.0 MB/s\u001b[0m eta \u001b[36m0:00:00\u001b[0m\n",
            "\u001b[2K   \u001b[90m━━━━━━━━━━━━━━━━━━━━━━━━━━━━━━━━━━━━━━━━\u001b[0m \u001b[32m62.5/62.5 kB\u001b[0m \u001b[31m4.4 MB/s\u001b[0m eta \u001b[36m0:00:00\u001b[0m\n",
            "\u001b[?25h"
          ]
        }
      ]
    }
  ]
}